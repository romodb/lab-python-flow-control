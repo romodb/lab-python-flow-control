{
 "cells": [
  {
   "cell_type": "markdown",
   "id": "d3bfc191-8885-42ee-b0a0-bbab867c6f9f",
   "metadata": {
    "tags": []
   },
   "source": [
    "# Lab | Flow Control"
   ]
  },
  {
   "cell_type": "markdown",
   "id": "3851fcd1-cf98-4653-9c89-e003b7ec9400",
   "metadata": {},
   "source": [
    "## Exercise: Managing Customer Orders Optimized\n",
    "\n",
    "In the last lab, you were starting an online store that sells various products. To ensure smooth operations, you developed a program that manages customer orders and inventory.\n",
    "\n",
    "You did so without using flow control. Let's go a step further and improve this code.\n",
    "\n",
    "Follow the steps below to complete the exercise:\n",
    "\n",
    "1. Look at your code from the lab data structures, and improve repeated code with loops.\n",
    "\n",
    "2. Instead of asking the user to input the name of three products that a customer wants to order, do the following:\n",
    "    \n",
    "    a. Prompt the user to enter the name of a product that a customer wants to order.\n",
    "    \n",
    "    b. Add the product name to the \"customer_orders\" set.\n",
    "    \n",
    "    c. Ask the user if they want to add another product (yes/no).\n",
    "    \n",
    "    d. Continue the loop until the user does not want to add another product.\n",
    "\n",
    "3. Instead of updating the inventory by subtracting 1 from the quantity of each product, only do it for  the products that were ordered (those in \"customer_orders\")."
   ]
  },
  {
   "cell_type": "code",
   "execution_count": 36,
   "id": "8b64f1e2",
   "metadata": {},
   "outputs": [
    {
     "name": "stdout",
     "output_type": "stream",
     "text": [
      "['t-shirt', 'mug', 'hat', 'book', 'keychain']\n"
     ]
    }
   ],
   "source": [
    "products = [\"t-shirt\", \"mug\", \"hat\", \"book\", \"keychain\"]\n",
    "print(products)\n",
    "\n",
    "inventory = {}\n",
    "\n",
    "for key in products:\n",
    "    inventory[key] = int(input(f\"{key} inventory: \"))\n",
    "\n",
    "customers_orders = []"
   ]
  },
  {
   "cell_type": "code",
   "execution_count": 37,
   "id": "dc3d2c99",
   "metadata": {},
   "outputs": [],
   "source": [
    "def anadir_prod():\n",
    "    while True:\n",
    "        producto = input(\"¿Que quieres añadir? \").strip().lower()\n",
    "        \n",
    "        if producto in inventory:\n",
    "            customers_orders.append(producto)\n",
    "        else:\n",
    "            print(f\"Lo siento, {producto} no está disponible en el inventario.\")\n",
    "        \n",
    "        añadir_mas = input(\"¿Desea agregar otro producto? (sí/no): \").strip().lower()\n",
    "        \n",
    "        if añadir_mas != 'sí':\n",
    "            break\n",
    "anadir_prod()\n",
    "\n"
   ]
  },
  {
   "cell_type": "code",
   "execution_count": 38,
   "id": "b737559e",
   "metadata": {},
   "outputs": [
    {
     "name": "stdout",
     "output_type": "stream",
     "text": [
      "Se ha actualizado el inventario. keychaino: 0 restantes.\n",
      "\n",
      "El cliente ha pedido los siguientes productos:\n",
      "book\n",
      "\n",
      "Inventario actualizado:\n",
      "t-shirt: 1\n",
      "mug: 1\n",
      "hat: 2\n",
      "book: 0\n",
      "keychain: 3\n"
     ]
    }
   ],
   "source": [
    "def act_inventario():\n",
    "    for producto in customers_orders:\n",
    "        if inventory[producto] > 0:\n",
    "            inventory[producto] -= 1  \n",
    "            print(f\"Se ha actualizado el inventario. {product}o: {inventory[producto]} restantes.\")\n",
    "        else:\n",
    "            print(f\"{producto} está agotado y no se puede pedir.\")\n",
    "        break\n",
    "    \n",
    "act_inventario()\n",
    "\n",
    "print(\"\\nEl cliente ha pedido los siguientes productos:\")\n",
    "for order in customers_orders:\n",
    "    print(order)\n",
    "\n",
    "print(\"\\nInventario actualizado:\")\n",
    "for product, quantity in inventory.items():\n",
    "    print(f\"{product}: {quantity}\")"
   ]
  }
 ],
 "metadata": {
  "kernelspec": {
   "display_name": "Python 3 (ipykernel)",
   "language": "python",
   "name": "python3"
  },
  "language_info": {
   "codemirror_mode": {
    "name": "ipython",
    "version": 3
   },
   "file_extension": ".py",
   "mimetype": "text/x-python",
   "name": "python",
   "nbconvert_exporter": "python",
   "pygments_lexer": "ipython3",
   "version": "3.12.5"
  }
 },
 "nbformat": 4,
 "nbformat_minor": 5
}
